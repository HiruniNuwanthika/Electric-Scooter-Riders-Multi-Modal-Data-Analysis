{
 "cells": [
  {
   "cell_type": "code",
   "execution_count": null,
   "id": "e073246e",
   "metadata": {},
   "outputs": [],
   "source": [
    "import cv2\n",
    "from ultralytics import YOLO\n",
    "import torch\n",
    "import numpy as np"
   ]
  },
  {
   "cell_type": "code",
   "execution_count": null,
   "id": "92be2b39",
   "metadata": {},
   "outputs": [],
   "source": [
    "model = YOLO('yolov8x.pt')"
   ]
  },
  {
   "cell_type": "code",
   "execution_count": null,
   "id": "59688d09",
   "metadata": {},
   "outputs": [],
   "source": [
    "def time_to_seconds(minutes, seconds):\n",
    "    return minutes * 60 + seconds"
   ]
  },
  {
   "cell_type": "code",
   "execution_count": null,
   "id": "6d5674d2",
   "metadata": {},
   "outputs": [],
   "source": [
    "def extract_and_save_center_cropped_segment(video_path, start_time, end_time, crop_width_percentage,output_path):\n",
    "    cap = cv2.VideoCapture(video_path)\n",
    "    \n",
    "    # Get frame rate,width adn height \n",
    "    fps = cap.get(cv2.CAP_PROP_FPS)\n",
    "    frame_width  = int(cap.get(cv2.CAP_PROP_FRAME_WIDTH))\n",
    "    frame_height  = int(cap.get(cv2.CAP_PROP_FRAME_HEIGHT))\n",
    "    \n",
    "    # crop width calclate\n",
    "    crop_width = int(frame_width * crop_width_percentage)\n",
    "    \n",
    "    # Convert start and end times from (minutes, seconds) to total seconds\n",
    "    start_time_seconds = time_to_seconds(start_time[0], start_time[1])\n",
    "    end_time_seconds = time_to_seconds(end_time[0], end_time[1])\n",
    "    \n",
    "    # Calculate start and end frame numbers\n",
    "    start_frame = int(start_time_seconds * fps)\n",
    "    end_frame = int(end_time_seconds * fps)\n",
    "    \n",
    "    # Initialize VideoWriter object\n",
    "    fourcc = cv2.VideoWriter_fourcc(*'mp4v')  # or 'XVID', 'MJPG', 'X264'\n",
    "    out = cv2.VideoWriter(output_path, fourcc, fps, (crop_width, frame_height))\n",
    "\n",
    "    # Set the video frame position to the start frame\n",
    "    cap.set(cv2.CAP_PROP_POS_FRAMES, start_frame)\n",
    "    \n",
    "    current_frame = start_frame\n",
    "    while current_frame <= end_frame:\n",
    "        ret, frame = cap.read()\n",
    "        if not ret:\n",
    "            break\n",
    "    \n",
    "        # Calculate the center crop coordinates\n",
    "        x_center = frame_width // 2\n",
    "        x_start = x_center - crop_width // 2\n",
    "        x_end = x_start + crop_width\n",
    "\n",
    "        # Crop the frame to the center region\n",
    "        cropped_frame = frame[:, x_start:x_end]\n",
    "            \n",
    "            \n",
    "        out.write(cropped_frame)\n",
    "        current_frame += 1\n",
    "    \n",
    "    cap.release()\n",
    "    out.release()\n",
    "    print(f\"Segment saved as {output_path}\")"
   ]
  },
  {
   "cell_type": "code",
   "execution_count": null,
   "id": "ddbb1215",
   "metadata": {},
   "outputs": [],
   "source": [
    "!git clone https://github.com/ultralytics/ultralytics\n",
    "!cd ultralytics/examples/YOLOv8-Region-Counter"
   ]
  },
  {
   "cell_type": "code",
   "execution_count": null,
   "id": "ec2e679f",
   "metadata": {},
   "outputs": [],
   "source": [
    "#add the updated region_count file\n",
    "#!python ultralytics/examples/YOLOv8-Region-Counter/yolov8_region_counter.py --source \"<file_path_to_video>.mp4\" --weights \"<file_path_to_model_yolov8x.pt>\" --save-img --classes <class_numbers>"
   ]
  },
  {
   "cell_type": "code",
   "execution_count": null,
   "id": "e58c9579",
   "metadata": {},
   "outputs": [],
   "source": []
  }
 ],
 "metadata": {
  "kernelspec": {
   "display_name": "Python 3 (ipykernel)",
   "language": "python",
   "name": "python3"
  },
  "language_info": {
   "codemirror_mode": {
    "name": "ipython",
    "version": 3
   },
   "file_extension": ".py",
   "mimetype": "text/x-python",
   "name": "python",
   "nbconvert_exporter": "python",
   "pygments_lexer": "ipython3",
   "version": "3.7.13"
  }
 },
 "nbformat": 4,
 "nbformat_minor": 5
}
