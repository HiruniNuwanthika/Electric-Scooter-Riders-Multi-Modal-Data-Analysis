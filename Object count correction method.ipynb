{
 "cells": [
  {
   "cell_type": "code",
   "execution_count": null,
   "id": "f3d45310",
   "metadata": {},
   "outputs": [],
   "source": [
    "def correct_object_count(seg_no, unique_class_0_ids, unique_class_1_ids, unique_class_2_ids, bike_marks_seg2, bike_marks_seg3):\n",
    "    if seg_no==1:\n",
    "        unique_class_0_ids=unique_class_0_ids - unique_class_1_ids\n",
    "    elif seg_no==2:\n",
    "        if (unique_class_1_ids>bike_marks_seg2):\n",
    "            unique_class_1_ids=unique_class_1_ids - bike_marks_seg2\n",
    "            unique_class_0_ids=unique_class_0_ids - unique_class_1_ids\n",
    "        else:\n",
    "            unique_class_1_ids=0\n",
    "            unique_class_0_ids=unique_class_0_ids - unique_class_1_ids\n",
    "    elif seg_no==3:\n",
    "        if (unique_class_1_ids>bike_marks_seg3):\n",
    "            unique_class_1_ids=unique_class_1_ids - bike_marks_seg3\n",
    "            unique_class_0_ids=unique_class_0_ids - unique_class_1_ids\n",
    "        else:\n",
    "            unique_class_1_ids=0\n",
    "            unique_class_0_ids=unique_class_0_ids - unique_class_1_ids\n",
    "    print(f\"Total unique objects of class 0 in the whole video: {unique_class_0_ids}\")\n",
    "    print(f\"Total unique objects of class 1 in the whole video: {unique_class_1_ids}\")\n",
    "    print(f\"Total unique objects of class 2 in the whole video: {unique_class_2_ids}\")\n",
    "        \n",
    "    "
   ]
  }
 ],
 "metadata": {
  "kernelspec": {
   "display_name": "Python 3 (ipykernel)",
   "language": "python",
   "name": "python3"
  },
  "language_info": {
   "codemirror_mode": {
    "name": "ipython",
    "version": 3
   },
   "file_extension": ".py",
   "mimetype": "text/x-python",
   "name": "python",
   "nbconvert_exporter": "python",
   "pygments_lexer": "ipython3",
   "version": "3.7.13"
  }
 },
 "nbformat": 4,
 "nbformat_minor": 5
}
