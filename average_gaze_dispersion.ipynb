{
 "cells": [
  {
   "cell_type": "code",
   "execution_count": 1,
   "id": "ada83827",
   "metadata": {},
   "outputs": [],
   "source": [
    "import pandas as pd\n",
    "import numpy as np\n",
    "import os"
   ]
  },
  {
   "cell_type": "code",
   "execution_count": 2,
   "id": "cfbcae29",
   "metadata": {},
   "outputs": [],
   "source": [
    "def min_max_normalize(series):\n",
    "    return (series - series.min()) / (series.max() - series.min())"
   ]
  },
  {
   "cell_type": "code",
   "execution_count": null,
   "id": "00fbede7",
   "metadata": {},
   "outputs": [],
   "source": [
    "def calculate_euclidean_distance(in_file):\n",
    "    df=pd.read_csv(in_file, out_file)\n",
    "    df['Normalized X'] = min_max_normalize(df['Gaze point X [MCS px]'])\n",
    "    df['Normalized Y'] = min_max_normalize(df['Gaze point Y [MCS px]'])\n",
    "    df['Euclidean Distance'] = np.sqrt(df['Normalized X']**2 + df['Normalized Y']**2)\n",
    "    df.to_csv(out_file,index=False)"
   ]
  },
  {
   "cell_type": "code",
   "execution_count": null,
   "id": "8255b9d4",
   "metadata": {},
   "outputs": [],
   "source": [
    "def avg_gaze_dispersion(directory_path, seg_number, out_file):\n",
    "    results_df = pd.DataFrame(columns=['Participant Number', 'AVG euclidean distance'])\n",
    "    for filename in os.listdir(directory_path, seg_number, out_file):\n",
    "        if filename.endswith(f\"Segment_{seg_number}.csv\"):\n",
    "            file_path = os.path.join(directory_path, filename)\n",
    "            df = pd.read_csv(file_path)\n",
    "\n",
    "            average_distance = df['Euclidean Distance'].mean()\n",
    "            results_df = results_df.append({'Participant Number': participant_number, 'AVG euclidean distance': average_distance}, ignore_index=True)\n",
    "    results_df.to_csv(out_file, index=False)      \n",
    "    "
   ]
  }
 ],
 "metadata": {
  "kernelspec": {
   "display_name": "Python 3 (ipykernel)",
   "language": "python",
   "name": "python3"
  },
  "language_info": {
   "codemirror_mode": {
    "name": "ipython",
    "version": 3
   },
   "file_extension": ".py",
   "mimetype": "text/x-python",
   "name": "python",
   "nbconvert_exporter": "python",
   "pygments_lexer": "ipython3",
   "version": "3.7.13"
  }
 },
 "nbformat": 4,
 "nbformat_minor": 5
}
