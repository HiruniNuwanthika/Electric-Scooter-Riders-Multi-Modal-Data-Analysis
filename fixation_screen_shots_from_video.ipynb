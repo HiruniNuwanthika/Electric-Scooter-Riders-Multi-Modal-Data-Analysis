{
 "cells": [
  {
   "cell_type": "code",
   "execution_count": null,
   "id": "43aac896",
   "metadata": {},
   "outputs": [],
   "source": [
    "from moviepy.editor import VideoFileClip\n",
    "import matplotlib.pyplot as plt\n",
    "import os\n",
    "import pandas as pd"
   ]
  },
  {
   "cell_type": "code",
   "execution_count": null,
   "id": "83411e20",
   "metadata": {},
   "outputs": [],
   "source": [
    "def load_data(csv_path):\n",
    "    \n",
    "    data = pd.read_csv(csv_path)\n",
    "\n",
    "    # Extract ts,xcoor,ycoord columns\n",
    "    timestamps_ms = data['Recording timestamp [ms]']\n",
    "    x_points = data['Fixation point X [MCS px]']\n",
    "    y_points = data['Fixation point Y [MCS px]']\n",
    "\n",
    "    # ts to sec\n",
    "    timestamps_s = timestamps_ms / 1000.0\n",
    "\n",
    "    points = list(zip(x_points, y_points))\n",
    "\n",
    "    return timestamps_s.tolist(), points"
   ]
  },
  {
   "cell_type": "code",
   "execution_count": null,
   "id": "e3a4d775",
   "metadata": {},
   "outputs": [],
   "source": [
    "def extract_frames_with_dot(video_path, csv_path, output_dir):\n",
    "\n",
    "    timestamps, points = load_data(csv_path)\n",
    "\n",
    "    if not os.path.exists(output_dir):\n",
    "        os.makedirs(output_dir)\n",
    "\n",
    "    clip = VideoFileClip(video_path)\n",
    "\n",
    "    # Extract frames and draw a dot\n",
    "    for t, (x, y) in zip(timestamps, points):\n",
    "        img = clip.get_frame(t)\n",
    "\n",
    "        plt.imshow(img)\n",
    "        plt.scatter([x], [y], color='red', s=40)  \n",
    "        plt.axis('off') \n",
    "\n",
    "        frame_path = os.path.join(output_dir, f'screenshot_{t:.2f}.png')\n",
    "        plt.savefig(frame_path, bbox_inches='tight', pad_inches=0)\n",
    "        plt.close()  \n"
   ]
  },
  {
   "cell_type": "code",
   "execution_count": null,
   "id": "88a3d253",
   "metadata": {},
   "outputs": [],
   "source": []
  }
 ],
 "metadata": {
  "kernelspec": {
   "display_name": "Python 3 (ipykernel)",
   "language": "python",
   "name": "python3"
  },
  "language_info": {
   "codemirror_mode": {
    "name": "ipython",
    "version": 3
   },
   "file_extension": ".py",
   "mimetype": "text/x-python",
   "name": "python",
   "nbconvert_exporter": "python",
   "pygments_lexer": "ipython3",
   "version": "3.7.13"
  }
 },
 "nbformat": 4,
 "nbformat_minor": 5
}
