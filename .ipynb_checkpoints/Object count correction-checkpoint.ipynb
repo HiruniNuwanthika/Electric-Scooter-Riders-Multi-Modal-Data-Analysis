{
 "cells": [
  {
   "cell_type": "code",
   "execution_count": 1,
   "id": "c3d2b58f",
   "metadata": {},
   "outputs": [],
   "source": [
    "import pandas as pd"
   ]
  },
  {
   "cell_type": "code",
   "execution_count": null,
   "id": "dcc3f012",
   "metadata": {},
   "outputs": [],
   "source": [
    "#seg1"
   ]
  },
  {
   "cell_type": "code",
   "execution_count": 111,
   "id": "104a525c",
   "metadata": {},
   "outputs": [],
   "source": [
    "unique_class_0_ids=50\n",
    "unique_class_1_ids=5\n",
    "unique_class_2_ids=104"
   ]
  },
  {
   "cell_type": "code",
   "execution_count": 112,
   "id": "dab078ff",
   "metadata": {},
   "outputs": [
    {
     "name": "stdout",
     "output_type": "stream",
     "text": [
      "Total unique objects of class 0 in the whole video: 45\n",
      "Total unique objects of class 1 in the whole video: 5\n",
      "Total unique objects of class 2 in the whole video: 104\n"
     ]
    }
   ],
   "source": [
    "\n",
    "unique_class_0_ids=unique_class_0_ids - unique_class_1_ids\n",
    "print(f\"Total unique objects of class 0 in the whole video: {unique_class_0_ids}\")\n",
    "print(f\"Total unique objects of class 1 in the whole video: {unique_class_1_ids}\")\n",
    "print(f\"Total unique objects of class 2 in the whole video: {unique_class_2_ids}\")"
   ]
  },
  {
   "cell_type": "code",
   "execution_count": 6,
   "id": "3be3f57c",
   "metadata": {},
   "outputs": [],
   "source": [
    "#seg2"
   ]
  },
  {
   "cell_type": "code",
   "execution_count": 113,
   "id": "8a456c3e",
   "metadata": {},
   "outputs": [],
   "source": [
    "unique_class_0_ids=4\n",
    "unique_class_1_ids=18\n",
    "unique_class_2_ids=94"
   ]
  },
  {
   "cell_type": "code",
   "execution_count": 114,
   "id": "66a9eff2",
   "metadata": {},
   "outputs": [],
   "source": [
    "if (unique_class_1_ids>23):\n",
    "    unique_class_1_ids=unique_class_1_ids - 23\n",
    "    unique_class_0_ids=unique_class_0_ids - unique_class_1_ids\n",
    "else:\n",
    "    unique_class_1_ids=0\n",
    "    unique_class_0_ids=unique_class_0_ids - unique_class_1_ids"
   ]
  },
  {
   "cell_type": "code",
   "execution_count": 115,
   "id": "4a331410",
   "metadata": {},
   "outputs": [
    {
     "name": "stdout",
     "output_type": "stream",
     "text": [
      "Total unique objects of class 0 in the whole video: 4\n",
      "Total unique objects of class 1 in the whole video: 0\n",
      "Total unique objects of class 2 in the whole video: 94\n"
     ]
    }
   ],
   "source": [
    "print(f\"Total unique objects of class 0 in the whole video: {unique_class_0_ids}\")\n",
    "print(f\"Total unique objects of class 1 in the whole video: {unique_class_1_ids}\")\n",
    "print(f\"Total unique objects of class 2 in the whole video: {unique_class_2_ids}\")"
   ]
  },
  {
   "cell_type": "code",
   "execution_count": 20,
   "id": "9a3112b1",
   "metadata": {},
   "outputs": [],
   "source": [
    "#seg 3"
   ]
  },
  {
   "cell_type": "code",
   "execution_count": 119,
   "id": "222892d0",
   "metadata": {},
   "outputs": [],
   "source": [
    "unique_class_0_ids=7\n",
    "unique_class_1_ids=9\n",
    "unique_class_2_ids=177"
   ]
  },
  {
   "cell_type": "code",
   "execution_count": 120,
   "id": "683add10",
   "metadata": {},
   "outputs": [],
   "source": [
    "if (unique_class_1_ids>11):\n",
    "    unique_class_1_ids=unique_class_1_ids - 11\n",
    "    unique_class_0_ids=unique_class_0_ids - unique_class_1_ids\n",
    "else:\n",
    "    unique_class_1_ids=0\n",
    "    unique_class_0_ids=unique_class_0_ids - unique_class_1_ids"
   ]
  },
  {
   "cell_type": "code",
   "execution_count": 121,
   "id": "c2293239",
   "metadata": {},
   "outputs": [
    {
     "name": "stdout",
     "output_type": "stream",
     "text": [
      "Total unique objects of class 0 in the whole video: 7\n",
      "Total unique objects of class 1 in the whole video: 0\n",
      "Total unique objects of class 2 in the whole video: 177\n"
     ]
    }
   ],
   "source": [
    "print(f\"Total unique objects of class 0 in the whole video: {unique_class_0_ids}\")\n",
    "print(f\"Total unique objects of class 1 in the whole video: {unique_class_1_ids}\")\n",
    "print(f\"Total unique objects of class 2 in the whole video: {unique_class_2_ids}\")\n"
   ]
  },
  {
   "cell_type": "code",
   "execution_count": null,
   "id": "10a0bef2",
   "metadata": {},
   "outputs": [],
   "source": []
  },
  {
   "cell_type": "code",
   "execution_count": null,
   "id": "8aba63fb",
   "metadata": {},
   "outputs": [],
   "source": [
    "def correct_object_count(seg_no, unique_class_0_ids, unique_class_1_ids, unique_class_2_ids, bike_marks_seg2, bike_marks_seg3):\n",
    "    if seg_no==1:\n",
    "        unique_class_0_ids=unique_class_0_ids - unique_class_1_ids\n",
    "    elif seg_no==2:\n",
    "        if (unique_class_1_ids>bike_marks_seg2):\n",
    "            unique_class_1_ids=unique_class_1_ids - bike_marks_seg2\n",
    "            unique_class_0_ids=unique_class_0_ids - unique_class_1_ids\n",
    "        else:\n",
    "            unique_class_1_ids=0\n",
    "            unique_class_0_ids=unique_class_0_ids - unique_class_1_ids\n",
    "    elif seg_no==3:\n",
    "        if (unique_class_1_ids>bike_marks_seg3):\n",
    "            unique_class_1_ids=unique_class_1_ids - bike_marks_seg3\n",
    "            unique_class_0_ids=unique_class_0_ids - unique_class_1_ids\n",
    "        else:\n",
    "            unique_class_1_ids=0\n",
    "            unique_class_0_ids=unique_class_0_ids - unique_class_1_ids\n",
    "    print(f\"Total unique objects of class 0 in the whole video: {unique_class_0_ids}\")\n",
    "    print(f\"Total unique objects of class 1 in the whole video: {unique_class_1_ids}\")\n",
    "    print(f\"Total unique objects of class 2 in the whole video: {unique_class_2_ids}\")\n",
    "        \n",
    "    "
   ]
  }
 ],
 "metadata": {
  "kernelspec": {
   "display_name": "Python 3 (ipykernel)",
   "language": "python",
   "name": "python3"
  },
  "language_info": {
   "codemirror_mode": {
    "name": "ipython",
    "version": 3
   },
   "file_extension": ".py",
   "mimetype": "text/x-python",
   "name": "python",
   "nbconvert_exporter": "python",
   "pygments_lexer": "ipython3",
   "version": "3.7.13"
  }
 },
 "nbformat": 4,
 "nbformat_minor": 5
}
