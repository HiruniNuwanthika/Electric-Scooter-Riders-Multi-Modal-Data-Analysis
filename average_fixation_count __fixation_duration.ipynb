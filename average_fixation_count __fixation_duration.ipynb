{
 "cells": [
  {
   "cell_type": "code",
   "execution_count": 1,
   "id": "f09d8f52",
   "metadata": {},
   "outputs": [],
   "source": [
    "import pandas as pd\n",
    "import os"
   ]
  },
  {
   "cell_type": "code",
   "execution_count": 2,
   "id": "f64b4e1d",
   "metadata": {},
   "outputs": [],
   "source": [
    "def convert_to_milliseconds(minutes, seconds):\n",
    "    total_seconds = minutes * 60 + seconds\n",
    "    milliseconds = total_seconds * 1000\n",
    "    return milliseconds"
   ]
  },
  {
   "cell_type": "code",
   "execution_count": null,
   "id": "3a78cc96",
   "metadata": {},
   "outputs": [],
   "source": [
    "#read files in the directory and extract fixationdata\n",
    "def extract_fixation_duration_data(directory_path,out_file):\n",
    "    for filename in os.listdir(directory_path):\n",
    "        if filename.endswith('.csv'):\n",
    "            participant_number = filename[1:-5]  \n",
    "            file_path = os.path.join(directory_path, filename)\n",
    "            df_fixation = pd.read_csv(file_path)\n",
    "            df=df_fixation[['Recording timestamp [ms]','Eye movement type','Gaze event duration [ms]','Fixation point X [MCS px]','Fixation point Y [MCS px]']]\n",
    "            df.to_csv(out_file.format(participant_number),index=False)"
   ]
  },
  {
   "cell_type": "code",
   "execution_count": null,
   "id": "548d175c",
   "metadata": {},
   "outputs": [],
   "source": [
    "#save selected segment into csv\n",
    "def segment_fixation_data(in_file,start_minutes,start_seconds,end_minutes,end_seconds,out_file_segNo):\n",
    "    df=pd.read_csv(in_file)\n",
    "    start_value=convert_to_milliseconds(start_minutes, start_seconds) \n",
    "    end_value=convert_to_milliseconds(end_minutes, end_seconds)\n",
    "    filtered_df = df[(df['Recording timestamp [ms]'] >= start_value) & (df['Recording timestamp [ms]'] <= end_value)]\n",
    "    filtered_df.to_csv(out_file_segNo,index=False)\n"
   ]
  },
  {
   "cell_type": "code",
   "execution_count": null,
   "id": "78afe533",
   "metadata": {},
   "outputs": [],
   "source": [
    "#### select unique records\n",
    "\n",
    "def select_unique_records(directory_path, seg_number, out_file):\n",
    "    for filename in os.listdir(directory_path):\n",
    "        if filename.endswith(f\"Segment_{seg_number}.csv\"):\n",
    "\n",
    "            file_path = os.path.join(directory_path, filename)\n",
    "            df = pd.read_csv(file_path)\n",
    "\n",
    "            grouped_df = df.groupby(['Eye movement type', 'Gaze event duration [ms]', 'Fixation point X [MCS px]', 'Fixation point Y [MCS px]'], as_index=False).first()\n",
    "            sorted_df = grouped_df.sort_values(by='Recording timestamp [ms]')\n",
    "            sorted_df.to_csv(out_file, index=False)\n"
   ]
  },
  {
   "cell_type": "code",
   "execution_count": null,
   "id": "c581bf5f",
   "metadata": {},
   "outputs": [],
   "source": [
    "###### calculate average fixation count for each participant each segment\n",
    "def calculate_avg_fixation_count(directory_path, seg_number, out_file):\n",
    "    results_df = pd.DataFrame(columns=['Participant Number', 'Fixation Count'])\n",
    "    for filename in os.listdir(directory_path, seg_number, out_file):\n",
    "        if filename.endswith(f\"Segment_{seg_number}.csv\"):\n",
    "            file_path = os.path.join(directory_path, filename)\n",
    "            df = pd.read_csv(file_path)\n",
    "\n",
    "            row_count = len(df)\n",
    "            #print(participant_number, ':', row_count)\n",
    "            results_df = results_df.append({'Participant Number': participant_number, 'Fixation Count': row_count}, ignore_index=True)\n",
    "    results_df.to_csv(out_file, index=False)      "
   ]
  },
  {
   "cell_type": "code",
   "execution_count": null,
   "id": "fd12d697",
   "metadata": {},
   "outputs": [],
   "source": [
    "###### calculate average fixation duration for each participant each segment\n",
    "def calculate_avg_fixation_duration(directory_path, seg_number, out_file):\n",
    "    results_df = pd.DataFrame(columns=['Participant Number', 'AVG Fixation duration'])\n",
    "    for filename in os.listdir(directory_path, seg_number, out_file):\n",
    "        if filename.endswith(f\"Segment_{seg_number}.csv\"):\n",
    "            file_path = os.path.join(directory_path, filename)\n",
    "            df = pd.read_csv(file_path)\n",
    "\n",
    "            average_fixation_duration = df['Gaze event duration [ms]'].mean()\n",
    "            #print(participant_number, ':', average_fixation_duration)\n",
    "\n",
    "            results_df = results_df.append({'Participant Number': participant_number, 'AVG Fixation duration': average_fixation_duration}, ignore_index=True)\n",
    "    results_df.to_csv(out_file, index=False)      "
   ]
  }
 ],
 "metadata": {
  "kernelspec": {
   "display_name": "Python 3 (ipykernel)",
   "language": "python",
   "name": "python3"
  },
  "language_info": {
   "codemirror_mode": {
    "name": "ipython",
    "version": 3
   },
   "file_extension": ".py",
   "mimetype": "text/x-python",
   "name": "python",
   "nbconvert_exporter": "python",
   "pygments_lexer": "ipython3",
   "version": "3.7.13"
  }
 },
 "nbformat": 4,
 "nbformat_minor": 5
}
