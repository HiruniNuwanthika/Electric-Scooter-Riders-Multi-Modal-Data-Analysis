{
 "cells": [
  {
   "cell_type": "code",
   "execution_count": null,
   "id": "8bb3e2e2",
   "metadata": {},
   "outputs": [],
   "source": [
    "import pandas as pd\n",
    "import ruptures as rpt\n",
    "import numpy as np\n",
    "import matplotlib.pyplot as plt\n",
    "from datetime import datetime\n",
    "from datetime import timedelta"
   ]
  },
  {
   "cell_type": "code",
   "execution_count": null,
   "id": "6ecd0cbe",
   "metadata": {},
   "outputs": [],
   "source": [
    "#Download fit file \n",
    "#convert to csv\n",
    "#convert to local time"
   ]
  },
  {
   "cell_type": "code",
   "execution_count": null,
   "id": "c7e74f1e",
   "metadata": {},
   "outputs": [],
   "source": [
    "def process_garmin_data(input_csv, output_csv, time_delta):\n",
    "    df = pd.read_csv(input_csv)\n",
    "\n",
    "    #Convert the timestamp to a different timezone\n",
    "    df['timestamp'] = pd.to_datetime(df['timestamp'])\n",
    "    df['local_time'] = df['timestamp'] + pd.Timedelta(hours=time_delta)\n",
    "    \n",
    "    #Save the modified DataFrame to a new CSV file\n",
    "    final_df = df[['timestamp', 'local_time', 'speed']]\n",
    "    final_df.to_csv(output_csv, index=False)\n",
    "    \n",
    "    #Separate the local time into date and time parts\n",
    "    df2 = pd.read_csv(output_csv)\n",
    "    df2['local_time'] = pd.to_datetime(df2['local_time'], errors='coerce')\n",
    "    df2['local_time_part'] = df2['local_time'].dt.time\n",
    "    df2.to_csv(output_csv, index=False)\n",
    "\n",
    "    return df2\n"
   ]
  },
  {
   "cell_type": "code",
   "execution_count": null,
   "id": "8b28485a",
   "metadata": {},
   "outputs": [],
   "source": [
    "#segregate to route segments"
   ]
  },
  {
   "cell_type": "code",
   "execution_count": null,
   "id": "0d67716d",
   "metadata": {},
   "outputs": [],
   "source": [
    "def segment_speed_file(input_csv, output_dir, row_ranges):\n",
    "    df = pd.read_csv(input_csv)\n",
    "\n",
    "    #Segment the data based on specified row ranges\n",
    "    for i, (start, end) in enumerate(row_ranges, start=1):\n",
    "        segment = df.iloc[start-1:end] \n",
    "        segment_output_csv = f\"{output_dir}/Segment_{i}.csv\"\n",
    "        \n",
    "        #Save each segment to a new CSV file\n",
    "        segment.to_csv(segment_output_csv, index=False)\n",
    "\n",
    "    return [f\"{output_dir}/Segment_{i}.csv\" for i in range(1, len(row_ranges)+1)]\n"
   ]
  },
  {
   "cell_type": "code",
   "execution_count": null,
   "id": "580cccd3",
   "metadata": {},
   "outputs": [],
   "source": [
    "#detect speed change points"
   ]
  },
  {
   "cell_type": "code",
   "execution_count": null,
   "id": "682df83c",
   "metadata": {},
   "outputs": [],
   "source": [
    "def detect_speed_change_points(input_csv, output_csv, penalty_range, num_penalties):\n",
    "    df = pd.read_csv(input_csv)\n",
    "    signal = df[\"speed\"].values\n",
    "    n = len(signal)\n",
    "\n",
    "    # calculate AIC\n",
    "    def calculate_aic(num_params, residual_sum_of_squares):\n",
    "        likelihood = np.exp(-residual_sum_of_squares / (2 * n))\n",
    "        return 2 * num_params - 2 * np.log(likelihood)\n",
    "\n",
    "    # PELT instance\n",
    "    algo = rpt.Pelt(model=\"l2\").fit(signal)\n",
    "\n",
    "    #list store results\n",
    "    penalties = np.linspace(penalty_range[0], penalty_range[1], num_penalties)\n",
    "    best_aic = np.inf\n",
    "    best_penalty = None\n",
    "    best_result = None\n",
    "\n",
    "    # Find change points for multiple penalty values and calculate AIC\n",
    "    for pen in penalties:\n",
    "        result = algo.predict(pen=pen)\n",
    "        num_params = len(result)  # Number of changepoints\n",
    "        # Calculate residual sum of squares between the detected segments and the mean value of each segment\n",
    "        residual_sum_of_squares = 0\n",
    "        last = 0\n",
    "        for r in result[:-1]:\n",
    "            segment = signal[last:r]\n",
    "            segment_mean = np.mean(segment)\n",
    "            residual_sum_of_squares += np.sum((segment - segment_mean) ** 2)\n",
    "            last = r\n",
    "\n",
    "        aic = calculate_aic(num_params, residual_sum_of_squares)\n",
    "\n",
    "        if aic < best_aic:\n",
    "            best_aic = aic\n",
    "            best_penalty = pen\n",
    "            best_result = result\n",
    "\n",
    "    # Retrieve the times corresponding to the detected change points for the best penalty\n",
    "    change_point_times = [df['local_time_part'][i-1] for i in best_result[:-1]]  # We ignore the last entry as it typically indicates the end of the series\n",
    "\n",
    "    #Save the CP\n",
    "    df_change_points = pd.DataFrame(change_point_times, columns=['TimesInSpeedFile'])\n",
    "    df_change_points.to_csv(output_csv, index=False)\n",
    "\n",
    "    return best_penalty, best_aic, change_point_times"
   ]
  },
  {
   "cell_type": "code",
   "execution_count": null,
   "id": "64b86a79",
   "metadata": {},
   "outputs": [],
   "source": [
    "#plot speed varaiations as a line graph and speed change points as verticle lines"
   ]
  },
  {
   "cell_type": "code",
   "execution_count": null,
   "id": "703e302b",
   "metadata": {},
   "outputs": [],
   "source": [
    "def plot_speed_with_vertical_lines(input_csv, specified_times_str):\n",
    "   \n",
    "    df = pd.read_csv(input_csv)\n",
    "\n",
    "    # Step 2: Convert array of change_point_times detected to datetime objects\n",
    "    specified_times = [datetime.strptime(time, \"%H:%M:%S\") for time in specified_times_str]\n",
    "\n",
    "    # convert time string to seconds\n",
    "    def time_to_seconds(t):\n",
    "        h, m, s = map(int, t.split(':'))\n",
    "        return h * 3600 + m * 60 + s\n",
    "\n",
    "    # Convert 'local_time_part' to seconds\n",
    "    plot_times_seconds = df['local_time_part'].apply(time_to_seconds)\n",
    "\n",
    "    # Convert specified times to seconds\n",
    "    specified_times_seconds = [time_to_seconds(time) for time in specified_times_str]\n",
    "\n",
    "    # plot\n",
    "    plt.figure(figsize=(10, 6))\n",
    "    plt.plot(plot_times_seconds, df['speed'], label='Speed')\n",
    "\n",
    "    # Draw vertical lines at the specified times (converted to seconds)\n",
    "    for time in specified_times_seconds:\n",
    "        plt.axvline(x=time, color='r', linestyle='--', label=f'Change Point {time}')\n",
    "\n",
    "    # Adjusting x-axis to show time in HH:MM:SS format\n",
    "    plt.xticks(rotation=45)\n",
    "    xtick_locs, xtick_labels = plt.xticks()\n",
    "    xtick_labels = [f'{int(x//3600):02d}:{int((x%3600)//60):02d}:{int(x%60):02d}' for x in xtick_locs]\n",
    "    plt.xticks(ticks=xtick_locs, labels=xtick_labels)\n",
    "\n",
    "    plt.xlabel('Time (HH:MM:SS)')\n",
    "    plt.ylabel('Speed')\n",
    "    plt.title('Speed vs. Time with Specified Change Points')\n",
    "    plt.legend()\n",
    "    plt.show()"
   ]
  },
  {
   "cell_type": "code",
   "execution_count": null,
   "id": "77c7b6f1",
   "metadata": {},
   "outputs": [],
   "source": [
    "# Find times related to speed change points in cideo file"
   ]
  },
  {
   "cell_type": "code",
   "execution_count": null,
   "id": "078412a3",
   "metadata": {},
   "outputs": [],
   "source": [
    "def parse_time_to_timedelta(time_str):\n",
    "    parts = list(map(int, time_str.split(':')))\n",
    "    if len(parts) == 3:\n",
    "        return timedelta(hours=parts[0], minutes=parts[1], seconds=parts[2])\n",
    "    elif len(parts) == 2:\n",
    "        return timedelta(minutes=parts[0], seconds=parts[1])\n",
    "    else:\n",
    "        raise ValueError(\"Time string format is incorrect. Expected 'HH:MM:SS' or 'MM:SS'.\")\n",
    "\n",
    "def adjust_csv_time(csv_time_str, offset):\n",
    "    csv_time_delta = parse_time_to_timedelta(csv_time_str)\n",
    "    adjusted_time = csv_time_delta - offset \n",
    "    # Return the adjusted time in 'minute:second' format, ensuring hours are also accounted for if necessary\n",
    "    total_seconds = adjusted_time.seconds + adjusted_time.days * 24 * 3600\n",
    "    return f'{total_seconds // 60}:{total_seconds % 60:02d}'\n",
    "\n",
    "def get_video_time_df(input_csv, output_csv, csv_time_example, video_time_example):\n",
    "    # Calculate the time offset\n",
    "    csv_time_delta = parse_time_to_timedelta(csv_time_example)\n",
    "    video_time_delta = parse_time_to_timedelta(video_time_example)\n",
    "    time_offset = csv_time_delta - video_time_delta\n",
    "\n",
    "    # Read the CSV file\n",
    "    df = pd.read_csv(input_csv)\n",
    "\n",
    "    # Adjust the times in the CSV file\n",
    "    df['TimesInVideoFile'] = df['TimesInSpeedFile'].apply(lambda x: adjust_csv_time(x, time_offset))\n",
    "\n",
    "    # Save the adjusted times to a new CSV file\n",
    "    df.to_csv(output_csv, index=False)\n",
    "    return df\n"
   ]
  }
 ],
 "metadata": {
  "kernelspec": {
   "display_name": "Python 3 (ipykernel)",
   "language": "python",
   "name": "python3"
  },
  "language_info": {
   "codemirror_mode": {
    "name": "ipython",
    "version": 3
   },
   "file_extension": ".py",
   "mimetype": "text/x-python",
   "name": "python",
   "nbconvert_exporter": "python",
   "pygments_lexer": "ipython3",
   "version": "3.7.13"
  }
 },
 "nbformat": 4,
 "nbformat_minor": 5
}
